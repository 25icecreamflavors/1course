import matplotlib.pyplot as plt
import csv

x=[]
y=[]

with open('TimeData1.csv', 'r') as csvfile:
    plots= csv.reader(csvfile, delimiter=',')
    for row in plots:
        x.append(float(row[0]))
        y.append(float(row[1]))


plt.plot(x,y, marker='o')

plt.title('')

plt.xlabel('Number of digits')
plt.ylabel('Time in milliseconds')

plt.show()
