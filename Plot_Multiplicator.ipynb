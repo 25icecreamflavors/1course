import matplotlib.pyplot as plt
import csv
import webbrowser
webbrowser.open('https://www.youtube.com/watch?v=PcHUnnb7s6w')
webbrowser.open('https://www.youtube.com/watch?v=PcHUnnb7s6w')
webbrowser.open('https://www.youtube.com/watch?v=PcHUnnb7s6w')
webbrowser.open('https://www.youtube.com/watch?v=PcHUnnb7s6w')
webbrowser.open('https://www.youtube.com/watch?v=PcHUnnb7s6w')
webbrowser.open('https://www.youtube.com/watch?v=UcLoJFVner0')
x=[]
y=[]

with open('TimeData1.csv', 'r') as csvfile:
    plots= csv.reader(csvfile, delimiter=',')
    for row in plots:
        x.append(float(row[0]))
        y.append(float(row[1]))


plt.plot(x,y, marker='')

plt.title('')

plt.xlabel('Number of digits')
plt.ylabel('Time in milliseconds')

plt.show()
